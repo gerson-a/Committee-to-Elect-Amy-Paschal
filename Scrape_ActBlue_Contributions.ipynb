{
  "nbformat": 4,
  "nbformat_minor": 0,
  "metadata": {
    "colab": {
      "provenance": [],
      "mount_file_id": "18EYBSdRqxdw4Yli4JUHS41-QQEBz0QNA",
      "authorship_tag": "ABX9TyO3iGcOnnhtpli12KwZSiky",
      "include_colab_link": true
    },
    "kernelspec": {
      "name": "python3",
      "display_name": "Python 3"
    },
    "language_info": {
      "name": "python"
    }
  },
  "cells": [
    {
      "cell_type": "markdown",
      "metadata": {
        "id": "view-in-github",
        "colab_type": "text"
      },
      "source": [
        "<a href=\"https://colab.research.google.com/github/bluebonnet-teams/Committee-to-Elect-Amy-Paschal-July-2024/blob/main/Copy_of_ActBlue_Contributions.ipynb\" target=\"_parent\"><img src=\"https://colab.research.google.com/assets/colab-badge.svg\" alt=\"Open In Colab\"/></a>"
      ]
    },
    {
      "cell_type": "code",
      "source": [
        "!pip install requests\n",
        "!pip install parsons"
      ],
      "metadata": {
        "id": "rjhp0OquaMVa",
        "collapsed": true
      },
      "execution_count": null,
      "outputs": []
    },
    {
      "cell_type": "code",
      "source": [
        "import requests\n",
        "import csv\n",
        "from google.colab import drive\n",
        "import os\n",
        "from parsons import ActBlue\n",
        "import pandas as pd\n",
        "import numpy as np\n",
        "from datetime import datetime, timedelta\n",
        "from dateutil.relativedelta import relativedelta"
      ],
      "metadata": {
        "id": "alBbyaqf50N_"
      },
      "execution_count": null,
      "outputs": []
    },
    {
      "cell_type": "code",
      "source": [
        "#initialize ActBlue and pass API keys as arguments\n",
        "actblue = ActBlue(actblue_client_uuid='client_uuid', actblue_client_secret='client_secret')"
      ],
      "metadata": {
        "id": "B7pAXIj4b9OX"
      },
      "execution_count": null,
      "outputs": []
    },
    {
      "cell_type": "code",
      "source": [
        "csv_file_path = 'file_path_here'\n",
        "\n",
        "# Define the start date and today's date\n",
        "# start date is 10/17/23 because first contribution was on 10/18/23\n",
        "start_date = datetime(2023, 10, 17).date()\n",
        "today = datetime.now().date()\n",
        "\n",
        "# Loop to download data in 6-month chunks, which is maximum date range allowed by parsons\n",
        "df = pd.DataFrame()\n",
        "while start_date < today:\n",
        "    end_date = start_date + relativedelta(months=6)\n",
        "    if end_date > today:\n",
        "        end_date = today\n",
        "\n",
        "    # use get_contributions() to download all donations in current date range\n",
        "    parsons_table = actblue.get_contributions(csv_type='paid_contributions', date_range_start=start_date.strftime('%Y-%m-%d'), date_range_end=end_date.strftime('%Y-%m-%d'))\n",
        "    df = pd.concat([df, parsons_table.to_dataframe()])\n",
        "\n",
        "    # Move to the next day after the current end_date\n",
        "    start_date = end_date + timedelta(days=1)\n",
        "\n",
        "#save DataFrame to file path\n",
        "df.to_csv(csv_file_path)\n",
        "print(f\"Data download complete. The data is saved in {csv_file_path}\")"
      ],
      "metadata": {
        "id": "gRHTXK_iUufv"
      },
      "execution_count": null,
      "outputs": []
    }
  ]
}
